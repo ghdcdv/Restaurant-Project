{
 "cells": [
  {
   "cell_type": "code",
   "execution_count": 2,
   "id": "05195540-df8e-41eb-bf0f-ff67e72ce6a6",
   "metadata": {},
   "outputs": [
    {
     "name": "stdout",
     "output_type": "stream",
     "text": [
      "\n",
      "Popular dishes in the restaurant along with their prices:\n",
      "Cheeseburger: 9.99\n",
      "Caesar Salad: 8\n",
      "Grilled Salmon: 19.99\n",
      "French Fries: 3.99\n",
      "Fish & Chips:: 15\n",
      "\n",
      "Table reserved in the Restaurant:\n",
      "Table 1\n",
      "Table 2\n",
      "Table 3\n",
      "\n",
      "Print customer orders:\n",
      "Table 1: Cheeseburger\n",
      "Table 1: Grilled Salmon\n",
      "Table 2: Fish & Chips\n",
      "Table 2: Grilled Salmon\n"
     ]
    }
   ],
   "source": [
    "# Write a Python class Restaurant with attributes like menu_items, book_table, and customer_orders, and methods like add_item_to_menu,\n",
    "#book_tables, and customer_order.\n",
    "#Perform the following tasks now:\n",
    "#Now add items to the menu.\n",
    "#Make table reservations.\n",
    "#Take customer orders.\n",
    "#Print the menu.\n",
    "#Print table reservations.\n",
    "#Print customer orders.\n",
    "#Note: Use dictionaries and lists to store the data.\n",
    "\n",
    "class Restaurant:\n",
    "    def __init__(self):\n",
    "        self.menu_items = {}\n",
    "        self.book_table = []\n",
    "        self.customer_orders = []\n",
    "\n",
    "    def add_item_to_menu(self, item, price):\n",
    "        self.menu_items[item] = price\n",
    "\n",
    "    def book_tables(self, table_number):\n",
    "        self.book_table.append(table_number)\n",
    "\n",
    "    def customer_order(self, table_number, order):\n",
    "        order_details = {'table_number': table_number, 'order': order}\n",
    "        self.customer_orders.append(order_details)\n",
    "\n",
    "    def print_menu_items(self):\n",
    "        for item, price in self.menu_items.items():\n",
    "            print(\"{}: {}\".format(item, price))\n",
    "\n",
    "    def print_table_reservations(self):\n",
    "        for table in self.book_table:\n",
    "            print(\"Table {}\".format(table))\n",
    "\n",
    "    def print_customer_orders(self):\n",
    "        for order in self.customer_orders:\n",
    "            print(\"Table {}: {}\".format(order['table_number'], order['order']))\n",
    "\n",
    "restaurant = Restaurant()\n",
    "\n",
    "# Add items\n",
    "restaurant.add_item_to_menu(\"Cheeseburger\", 9.99)\n",
    "restaurant.add_item_to_menu(\"Caesar Salad\", 8)\n",
    "restaurant.add_item_to_menu(\"Grilled Salmon\", 19.99)\n",
    "restaurant.add_item_to_menu(\"French Fries\", 3.99)\n",
    "restaurant.add_item_to_menu(\"Fish & Chips:\", 15)\n",
    "# Book table\n",
    "restaurant.book_tables(1)\n",
    "restaurant.book_tables(2)\n",
    "restaurant.book_tables(3)\n",
    "# Order items\n",
    "restaurant.customer_order(1, \"Cheeseburger\")\n",
    "restaurant.customer_order(1, \"Grilled Salmon\")\n",
    "restaurant.customer_order(2, \"Fish & Chips\")\n",
    "restaurant.customer_order(2, \"Grilled Salmon\")\n",
    "\n",
    "print(\"\\nPopular dishes in the restaurant along with their prices:\")\n",
    "restaurant.print_menu_items()\n",
    "print(\"\\nTable reserved in the Restaurant:\")\n",
    "restaurant.print_table_reservations()\n",
    "print(\"\\nPrint customer orders:\")\n",
    "restaurant.print_customer_orders()"
   ]
  },
  {
   "cell_type": "code",
   "execution_count": null,
   "id": "d87b1fe6-b630-4e63-9bbb-a7cadff36eca",
   "metadata": {},
   "outputs": [],
   "source": []
  },
  {
   "cell_type": "code",
   "execution_count": null,
   "id": "75b1ae6c-1468-4ec9-a4be-f201e6c3b26c",
   "metadata": {},
   "outputs": [],
   "source": []
  }
 ],
 "metadata": {
  "kernelspec": {
   "display_name": "Python 3 (ipykernel)",
   "language": "python",
   "name": "python3"
  },
  "language_info": {
   "codemirror_mode": {
    "name": "ipython",
    "version": 3
   },
   "file_extension": ".py",
   "mimetype": "text/x-python",
   "name": "python",
   "nbconvert_exporter": "python",
   "pygments_lexer": "ipython3",
   "version": "3.11.7"
  }
 },
 "nbformat": 4,
 "nbformat_minor": 5
}
